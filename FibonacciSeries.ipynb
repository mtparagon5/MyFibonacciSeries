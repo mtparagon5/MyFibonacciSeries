{
 "cells": [
  {
   "cell_type": "markdown",
   "metadata": {},
   "source": [
    "# Creating a Fibonacci Series"
   ]
  },
  {
   "cell_type": "markdown",
   "metadata": {},
   "source": [
    "created by Matthew Thomas"
   ]
  },
  {
   "cell_type": "markdown",
   "metadata": {},
   "source": [
    "11/23/17"
   ]
  },
  {
   "cell_type": "code",
   "execution_count": 16,
   "metadata": {},
   "outputs": [
    {
     "name": "stdout",
     "output_type": "stream",
     "text": [
      "How many numbers in the Fibonacci series would you like to display? -2\n",
      "Hmm...it seems you entered a value ≤ 0. Try again!\n",
      "How many numbers in the Fibonacci series would you like to display? 2\n"
     ]
    },
    {
     "data": {
      "text/plain": [
       "2"
      ]
     },
     "execution_count": 16,
     "metadata": {},
     "output_type": "execute_result"
    }
   ],
   "source": [
    "# first i'll ask for input from the user\n",
    "# to determine the length of the series\n",
    "# that should be created\n",
    "def get_series_length():\n",
    "    # Here we'll use a try/except blocks \n",
    "    # to account for user entering a non-integer\n",
    "    while True:\n",
    "        # here we'll try to get an integer \n",
    "        # from the user\n",
    "        try:\n",
    "            series_length = int(input(\n",
    "                \"How many numbers in the \" + \n",
    "                \"Fibonacci series would you \" +\n",
    "                \"like to display? \"))\n",
    "            if series_length <= 0:\n",
    "                print(\"Hmm...it seems you entered a value \" + u\"\\u2264\" + \" 0. Try again!\")\n",
    "                continue\n",
    "                \n",
    "        # if the user provides a non-integer\n",
    "        # this will catch the error and ask\n",
    "        # the user for valid input\n",
    "        except ValueError:\n",
    "            print(\"Please enter a valid integer\")\n",
    "            #continue will allow the loop to kepp going\n",
    "            continue\n",
    "        # once we get a valid input, we for the function\n",
    "        # to return it\n",
    "        else:\n",
    "            return series_length\n",
    "            \n",
    "\n",
    "get_series_length()\n",
    "\n",
    "# next I'll generate the list of numbers in the Fibonacci \n",
    "# the user designated\n"
   ]
  },
  {
   "cell_type": "code",
   "execution_count": 13,
   "metadata": {},
   "outputs": [
    {
     "name": "stdout",
     "output_type": "stream",
     "text": [
      "How many numbers in the Fibonacci series would you like to display? 3\n"
     ]
    },
    {
     "data": {
      "text/plain": [
       "[0, 1, 1]"
      ]
     },
     "execution_count": 13,
     "metadata": {},
     "output_type": "execute_result"
    }
   ],
   "source": [
    "# Next I'll create a function that will generate \n",
    "# a fibonacci series the length of the user's input\n",
    "\n",
    "# define the function\n",
    "def get_fib_series(length):\n",
    "    # create an empty list\n",
    "    list = []\n",
    "    \n",
    "    # each number in the range(users input)\n",
    "    for l in range(length):\n",
    "        # if the # is 0 -> add 0 to the list\n",
    "        if l == 0:\n",
    "            list.append(0)\n",
    "        \n",
    "        # else if the # is 1 -> add 1 to the list\n",
    "        elif l == 1:\n",
    "            list.append(1)\n",
    "            \n",
    "        # else add the sum of the two previous\n",
    "        # numbers in the sequence\n",
    "        else:\n",
    "            # eg. list[3] = list[0] + list[1] = 1\n",
    "            fib_value = list[l-2] + list[l-1]\n",
    "            list.append(fib_value)\n",
    "    # once the loop is finished, return the list        \n",
    "    return list\n",
    "\n",
    "# here you'll notice an Out[#]: because it's being computed\n",
    "# as an output\n",
    "get_fib_series(get_series_length())"
   ]
  },
  {
   "cell_type": "code",
   "execution_count": 14,
   "metadata": {},
   "outputs": [
    {
     "name": "stdout",
     "output_type": "stream",
     "text": [
      "How many numbers in the Fibonacci series would you like to display? -1\n",
      "Hmm...it seems you entered a value less than or equal to 0. Try again!\n",
      "How many numbers in the Fibonacci series would you like to display? 1\n",
      "0\n"
     ]
    }
   ],
   "source": [
    "# next, I'll create a function that can display the\n",
    "# sequence to the user\n",
    "\n",
    "# initiate function name\n",
    "def display_fib_series(fib_numbers):\n",
    "    # for each number in the created list of \n",
    "    # fibonacci numbers, print them to the user\n",
    "    for nums in fib_numbers:\n",
    "        print(nums)\n",
    "\n",
    "# unlike the above example, here we won't see the out[]:\n",
    "# this is because our function has printed the list\n",
    "display_fib_series(get_fib_series(get_series_length()))"
   ]
  },
  {
   "cell_type": "code",
   "execution_count": 15,
   "metadata": {},
   "outputs": [
    {
     "name": "stdout",
     "output_type": "stream",
     "text": [
      "How many numbers in the Fibonacci series would you like to display? -30\n",
      "Hmm...it seems you entered a value less than or equal to 0. Try again!\n",
      "How many numbers in the Fibonacci series would you like to display? 0\n",
      "Hmm...it seems you entered a value less than or equal to 0. Try again!\n",
      "How many numbers in the Fibonacci series would you like to display? 20\n",
      "0\n",
      "1\n",
      "1\n",
      "2\n",
      "3\n",
      "5\n",
      "8\n",
      "13\n",
      "21\n",
      "34\n",
      "55\n",
      "89\n",
      "144\n",
      "233\n",
      "377\n",
      "610\n",
      "987\n",
      "1597\n",
      "2584\n",
      "4181\n"
     ]
    }
   ],
   "source": [
    "# finally we'll write a function that will put them\n",
    "# all together. this will allow the program to be run \n",
    "# by calling a simple function as opposed to imbedding\n",
    "# them each time.\n",
    "\n",
    "def main():\n",
    "    series_length = get_series_length()\n",
    "    series = get_fib_series(series_length)\n",
    "    display_fib_series(series)\n",
    "\n",
    "main()"
   ]
  },
  {
   "cell_type": "code",
   "execution_count": null,
   "metadata": {},
   "outputs": [],
   "source": [
    "# now we can create a fibonacci series of any length we want"
   ]
  }
 ],
 "metadata": {
  "kernelspec": {
   "display_name": "Python 3",
   "language": "python",
   "name": "python3"
  },
  "language_info": {
   "codemirror_mode": {
    "name": "ipython",
    "version": 3
   },
   "file_extension": ".py",
   "mimetype": "text/x-python",
   "name": "python",
   "nbconvert_exporter": "python",
   "pygments_lexer": "ipython3",
   "version": "3.6.3"
  }
 },
 "nbformat": 4,
 "nbformat_minor": 2
}
