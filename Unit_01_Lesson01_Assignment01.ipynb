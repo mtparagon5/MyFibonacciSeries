{
 "cells": [
  {
   "cell_type": "code",
   "execution_count": 18,
   "metadata": {},
   "outputs": [
    {
     "name": "stdout",
     "output_type": "stream",
     "text": [
      "0\n",
      "1\n",
      "1\n",
      "2\n",
      "3\n",
      "5\n",
      "8\n",
      "13\n",
      "21\n",
      "34\n",
      "55\n",
      "89\n",
      "144\n",
      "233\n",
      "377\n",
      "610\n",
      "987\n",
      "1597\n",
      "2584\n",
      "4181\n"
     ]
    }
   ],
   "source": [
    "# creating a list of fibonacci numbers (capped at 20)\n",
    "# adds the two previous numbers to equal the next\n",
    "def get_fib_list_length():\n",
    "    return 20\n",
    "def generate_fib(num):\n",
    "    result = []\n",
    "    \n",
    "    for n in range(num):\n",
    "            \n",
    "        if n == 0:\n",
    "            result.append(0)\n",
    "            \n",
    "        elif n == 1:\n",
    "            result.append(1)\n",
    "        \n",
    "        # else add n[index n-2] + n[index n-1]\n",
    "        else:\n",
    "            value = result[n-2] + result[n - 1]\n",
    "            result.append(value)\n",
    "    return result\n",
    "\n",
    "def display_fibs(fibs):\n",
    "    for fib in fibs:\n",
    "        print(fib)\n",
    "\n",
    "def main():\n",
    "    fib_limit = get_fib_list_length()\n",
    "    fibs = generate_fib(fib_limit)\n",
    "    display_fibs(fibs)\n",
    "\n",
    "main()\n",
    "\n"
   ]
  },
  {
   "cell_type": "code",
   "execution_count": null,
   "metadata": {},
   "outputs": [],
   "source": []
  }
 ],
 "metadata": {
  "kernelspec": {
   "display_name": "Python 3",
   "language": "python",
   "name": "python3"
  },
  "language_info": {
   "codemirror_mode": {
    "name": "ipython",
    "version": 3
   },
   "file_extension": ".py",
   "mimetype": "text/x-python",
   "name": "python",
   "nbconvert_exporter": "python",
   "pygments_lexer": "ipython3",
   "version": "3.6.1"
  }
 },
 "nbformat": 4,
 "nbformat_minor": 2
}
