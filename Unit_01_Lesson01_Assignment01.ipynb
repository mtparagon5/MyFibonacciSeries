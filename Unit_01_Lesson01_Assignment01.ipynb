{
 "cells": [
  {
   "cell_type": "markdown",
   "metadata": {},
   "source": [
    "# Lesson 1.1"
   ]
  },
  {
   "cell_type": "markdown",
   "metadata": {},
   "source": [
    "### Fibonacci Series"
   ]
  },
  {
   "cell_type": "code",
   "execution_count": 1,
   "metadata": {},
   "outputs": [
    {
     "name": "stdout",
     "output_type": "stream",
     "text": [
      "0\n",
      "1\n",
      "1\n",
      "2\n",
      "3\n",
      "5\n",
      "8\n",
      "13\n",
      "21\n",
      "34\n",
      "55\n",
      "89\n",
      "144\n",
      "233\n",
      "377\n",
      "610\n",
      "987\n",
      "1597\n",
      "2584\n",
      "4181\n"
     ]
    }
   ],
   "source": [
    "# creating a list of fibonacci numbers (capped at 20)\n",
    "# adds the two previous numbers to equal the next\n",
    "def get_fib_list_length():\n",
    "    return 20\n",
    "def generate_fib(num):\n",
    "    result = []\n",
    "    \n",
    "    for n in range(num):\n",
    "            \n",
    "        if n == 0:\n",
    "            result.append(0)\n",
    "            \n",
    "        elif n == 1:\n",
    "            result.append(1)\n",
    "        \n",
    "        # else add n[index n-2] + n[index n-1]\n",
    "        else:\n",
    "            value = result[n-2] + result[n - 1]\n",
    "            result.append(value)\n",
    "    return result\n",
    "\n",
    "def display_fibs(fibs):\n",
    "    for fib in fibs:\n",
    "        print(fib)\n",
    "\n",
    "def main():\n",
    "    fib_limit = get_fib_list_length()\n",
    "    fibs = generate_fib(fib_limit)\n",
    "    display_fibs(fibs)\n",
    "\n",
    "main()\n",
    "\n"
   ]
  },
  {
   "cell_type": "markdown",
   "metadata": {},
   "source": [
    "# Lesson 1.4"
   ]
  },
  {
   "cell_type": "markdown",
   "metadata": {},
   "source": [
    "### Data Types"
   ]
  },
  {
   "cell_type": "code",
   "execution_count": 2,
   "metadata": {},
   "outputs": [
    {
     "name": "stdout",
     "output_type": "stream",
     "text": [
      "<class 'str'>\n",
      "The first letter is b\n",
      "The second letter is a\n",
      "5\n",
      "I like bacon and eggs\n",
      "I'll take 3 shrubberies, Sash! Thanks!\n"
     ]
    }
   ],
   "source": [
    "# Lesson 1.4\n",
    "# Start by assigning a string to our variable.\n",
    "food = \"bacon\"\n",
    "\n",
    "# Let's see what the built-in `type()`function does.\n",
    "type_of_food = type(food)\n",
    "print(type_of_food)\n",
    "\n",
    "# We can access the characters of a string by index with bracket\n",
    "# notation, starting at index zero.\n",
    "first_letter = food[0]\n",
    "second_letter = food[1]\n",
    "print(\"The first letter is \" + first_letter)\n",
    "print(\"The second letter is \" + second_letter)\n",
    "\n",
    "# We can use the built-in `len()` function to get a string's\n",
    "# \"length\", or the number of characters it contains.\n",
    "print(len(food))\n",
    "\n",
    "# We can concatenate two strings together into one string with\n",
    "# the `+` operator.\n",
    "superfood = food + \" and eggs\"\n",
    "print(\"I like \" + superfood)\n",
    "\n",
    "# We can fill in strings using the `.format()` string method.\n",
    "name = \"Sash\"\n",
    "cost = 3\n",
    "demand = \"I'll take {} shrubberies, {}! Thanks!\"\n",
    "print(demand.format(cost, name))"
   ]
  },
  {
   "cell_type": "markdown",
   "metadata": {},
   "source": [
    "### Using None"
   ]
  },
  {
   "cell_type": "code",
   "execution_count": 2,
   "metadata": {},
   "outputs": [
    {
     "name": "stdout",
     "output_type": "stream",
     "text": [
      "What is your name? matt\n",
      "Fantastic, thanks matt!\n",
      "What is your favorite color, matt? blue\n",
      "matt, you are a Human who needs a profession\n",
      "Your strength is 46 and magic is 1,\n",
      "and your favorite color is blue\n",
      "What profession would you like? scientist\n",
      "Congrats, matt. You are a Human scientist.\n"
     ]
    }
   ],
   "source": [
    "import random\n",
    "# Let's assign some variables to start with, including `None`\n",
    "# in a couple places.\n",
    " \n",
    "name = None\n",
    "species = \"Human\"\n",
    "weapon_of_choice = None\n",
    "\n",
    "num_list = []\n",
    "num_range = 50\n",
    "for num in range(num_range):\n",
    "  value = num + 1\n",
    "  num_list.append(value)\n",
    "#print(num_list)\n",
    "\n",
    "strength = random.choice(num_list)\n",
    "magic = random.choice(num_list)\n",
    "\n",
    "#def random_color():\n",
    "#    colors = [\"blue\", \"octarine\", \"yellow\", \"red\", \"pink\"]\n",
    "#    return random.choice(colors)\n",
    "#favorite_color = random_color()\n",
    "\n",
    "favorite_color = None\n",
    "profession = None\n",
    "\n",
    "# Hm, maybe we haven't assigned a name yet...\n",
    "if name is None:\n",
    "    name = input(\"What is your name? \")\n",
    "    print(\"Fantastic, thanks {}!\".format(name))\n",
    "\n",
    "# adding favorite color input\n",
    "if favorite_color is None:\n",
    "  favorite_color = input(\"What is your favorite color, {}? \".format(name))\n",
    "\n",
    "# Every adventurer needs a profession.\n",
    "if profession is None:\n",
    "    print(\"{}, you are a {} who needs a profession\".format(name, species))\n",
    "    print(\"Your strength is {} and magic is {},\".format(strength, magic))\n",
    "    print(\"and your favorite color is {}\".format(favorite_color))\n",
    "    profession = input(\"What profession would you like? \")\n",
    "\n",
    "print(\"Congrats, {}. You are a {} {}.\".format(name, species, profession))\n",
    "\n",
    "# Once you've run the program go back and tweak your starting\n",
    "# variables. Does that change the program's behavior?\n",
    "\n",
    "# As a stretch goal, try setting `favorite_color` to None and\n",
    "# getting user input by copying the logic for `name` and\n",
    "# `profession`.\n"
   ]
  },
  {
   "cell_type": "markdown",
   "metadata": {
    "collapsed": true
   },
   "source": [
    "# Lesson 1.5"
   ]
  },
  {
   "cell_type": "markdown",
   "metadata": {},
   "source": [
    "### Lists"
   ]
  },
  {
   "cell_type": "code",
   "execution_count": 4,
   "metadata": {},
   "outputs": [
    {
     "name": "stdout",
     "output_type": "stream",
     "text": [
      "beans\n",
      "['pie', 'pizza', 'automobile']\n",
      "pie\n",
      "You have 3 items in your inventory\n",
      "\n",
      "\n",
      "An item has been added to your inventory: \n",
      "['beans', 'coin', 'tome', 'magic sword']\n",
      "New item count = 4\n",
      "\n",
      "\n",
      "pi, rounded to 2 decimal places, is 3.14\n"
     ]
    }
   ],
   "source": [
    "new_line = \"\\n\"\n",
    "# Start by assigning some lists to variables.\n",
    "inventory = [\"beans\", \"coin\", \"tome\"]\n",
    "tome_dimensions = [8.5, 11, 2]\n",
    "\n",
    "# Lists in lists...\n",
    "random_stuff = [True, 3.14, [\"pie\", \"pizza\", \"automobile\"]]\n",
    "battleship_board = [[1, 1, 0], [1, 0, 1], [0, 0, 1]]\n",
    "\n",
    "# Just like with strings you can access list elements by index\n",
    "# with bracket notation. We start counting at zero:\n",
    "print(inventory[0])\n",
    "print(random_stuff[2])\n",
    "\n",
    "# With nested lists you can continue digging down with additional\n",
    "# indexes:\n",
    "print(random_stuff[2][0])\n",
    "\n",
    "# Lists have a particular length.\n",
    "inventory_size = len(inventory)\n",
    "print(\"You have {} items in your inventory\".format(inventory_size))\n",
    "\n",
    "print(new_line)\n",
    "\n",
    "# Lists are easy to modify. We'll cover this in more detail later.\n",
    "inventory.append(\"magic sword\")\n",
    "print(\"An item has been added to your inventory: \\n\" + str(inventory))\n",
    "print(\"New item count = {}\".format(len(inventory)))\n",
    "\n",
    "# Can you think of a way to print 3.14 solely by referencing the\n",
    "# variables above?\n",
    "print(new_line)\n",
    "\n",
    "print(\"pi, rounded to 2 decimal places, is {}\".format(random_stuff[1]))\n"
   ]
  },
  {
   "cell_type": "markdown",
   "metadata": {
    "collapsed": true
   },
   "source": [
    "### Dictionaries"
   ]
  },
  {
   "cell_type": "code",
   "execution_count": 5,
   "metadata": {},
   "outputs": [
    {
     "name": "stdout",
     "output_type": "stream",
     "text": [
      "What is your name?Martian\n",
      "Fantastic, thanks Martian\n",
      "Your assigned favorite color is Octarine\n",
      "Ok Martian, you are a Human swordsmith.\n"
     ]
    }
   ],
   "source": [
    "# Here's a super simple dictionary:\n",
    "person = {\"name\": \"grae\", \"profession\": \"magician\"}\n",
    "\n",
    "# Dictionaries are great for grouping related data together.\n",
    "# Let's make a dictionary with more data.\n",
    "\n",
    "# Note how we split each key-value pair onto a new line. This\n",
    "# can make dictionaries much easier to read.\n",
    "hero = {\n",
    "    \"name\": None,\n",
    "    \"species\": \"Human\",\n",
    "    \"strength\": 4,\n",
    "    \"magic\": 5,\n",
    "    \"profession\": None,\n",
    "}\n",
    "\n",
    "# Let's check the hero's name again. Just like lists, we use\n",
    "# bracket notation.\n",
    "if hero[\"name\"] is None:\n",
    "    # We modify dictionary values just like \n",
    "    # we access them.\n",
    "    hero[\"name\"] = input(\"What is your name?\")\n",
    "    print(\"Fantastic, thanks {}\".format(hero[\"name\"]))\n",
    "\n",
    "# You can also add a new key-value pairs using the same bracket\n",
    "# notation syntax.\n",
    "hero[\"favorite_color\"] = \"Octarine\"\n",
    "print(\"Your assigned favorite color is {}\".format(hero[\"favorite_color\"]))\n",
    "\n",
    "# Try inserting a line of code below this comment that changes\n",
    "# the hero's `profession` from `None` to another value so the next\n",
    "# print statement works well.\n",
    "hero[\"profession\"] = \"swordsmith\"\n",
    "\n",
    "print(\"Ok {}, you are a {} {}.\".format(hero[\"name\"], hero[\"species\"], hero[\"profession\"]))"
   ]
  }
 ],
 "metadata": {
  "kernelspec": {
   "display_name": "Python 3",
   "language": "python",
   "name": "python3"
  },
  "language_info": {
   "codemirror_mode": {
    "name": "ipython",
    "version": 3
   },
   "file_extension": ".py",
   "mimetype": "text/x-python",
   "name": "python",
   "nbconvert_exporter": "python",
   "pygments_lexer": "ipython3",
   "version": "3.6.3"
  }
 },
 "nbformat": 4,
 "nbformat_minor": 2
}
